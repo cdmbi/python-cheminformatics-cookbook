{
 "metadata": {
  "name": "",
  "signature": "sha256:67a82d32085ed2c79eb957861e488c97da30b977f11f2bf1ecc7860c88dbd125"
 },
 "nbformat": 3,
 "nbformat_minor": 0,
 "worksheets": [
  {
   "cells": [
    {
     "cell_type": "code",
     "collapsed": false,
     "input": [
      "from selenium import webdriver\n",
      "import pandas as pd\n",
      "import time"
     ],
     "language": "python",
     "metadata": {},
     "outputs": [],
     "prompt_number": 18
    },
    {
     "cell_type": "code",
     "collapsed": false,
     "input": [
      "driver = webdriver.Firefox()"
     ],
     "language": "python",
     "metadata": {},
     "outputs": [],
     "prompt_number": 43
    },
    {
     "cell_type": "code",
     "collapsed": false,
     "input": [
      "table = pd.read_excel('T_cell_epitope_positive.xlsx')"
     ],
     "language": "python",
     "metadata": {},
     "outputs": [],
     "prompt_number": 26
    },
    {
     "cell_type": "code",
     "collapsed": false,
     "input": [
      "url = 'http://aps.unmc.edu/AP/prediction/prediction_main.php'\n",
      "\n",
      "for row in table.tail(n=20).iterrows():\n",
      "    epitope_id, seq = row[1][0], row[1][2]\n",
      "    op = open('data/t_cell_positive/%s.txt' % str(epitope_id), 'w')\n",
      "    driver.get(url)  # load the main page\n",
      "    input_element = driver.find_element_by_name('input')  # find input element\n",
      "    input_element.send_keys(seq)\n",
      "    input_element.submit()\n",
      "    time.sleep(5)\n",
      "    op.write(str(driver.page_source))\n",
      "    op.close()"
     ],
     "language": "python",
     "metadata": {},
     "outputs": [],
     "prompt_number": 27
    },
    {
     "cell_type": "code",
     "collapsed": false,
     "input": [
      "table = pd.read_excel('data/t_cell_epitope_negative.xlsx')"
     ],
     "language": "python",
     "metadata": {},
     "outputs": [],
     "prompt_number": 38
    },
    {
     "cell_type": "code",
     "collapsed": false,
     "input": [
      "url = 'http://aps.unmc.edu/AP/prediction/prediction_main.php'\n",
      "\n",
      "for row in table.iterrows():\n",
      "    epitope_id, seq = row[1][0], row[1][1]\n",
      "    op = open('data/t_cell_negative/%s.txt' % str(epitope_id), 'w')\n",
      "    driver.get(url)  # load the main page\n",
      "    input_element = driver.find_element_by_name('input')  # find input element\n",
      "    input_element.send_keys(seq)\n",
      "    input_element.submit()\n",
      "    time.sleep(5)\n",
      "    op.write(str(driver.page_source))\n",
      "    op.close()"
     ],
     "language": "python",
     "metadata": {},
     "outputs": [],
     "prompt_number": 39
    },
    {
     "cell_type": "code",
     "collapsed": false,
     "input": [
      "table = pd.read_excel('data/B_cell_epitope_negative.xlsx')"
     ],
     "language": "python",
     "metadata": {},
     "outputs": [],
     "prompt_number": 44
    },
    {
     "cell_type": "code",
     "collapsed": false,
     "input": [
      "url = 'http://aps.unmc.edu/AP/prediction/prediction_main.php'\n",
      "\n",
      "for row in table.iterrows():\n",
      "    epitope_id, seq = row[1][0], row[1][1]\n",
      "    op = open('data/b_cell_negative/%s.txt' % str(epitope_id), 'w')\n",
      "    driver.get(url)  # load the main page\n",
      "    input_element = driver.find_element_by_name('input')  # find input element\n",
      "    input_element.send_keys(seq)\n",
      "    input_element.submit()\n",
      "    time.sleep(3)\n",
      "    op.write(str(driver.page_source))\n",
      "    op.close()"
     ],
     "language": "python",
     "metadata": {},
     "outputs": [],
     "prompt_number": 45
    },
    {
     "cell_type": "code",
     "collapsed": false,
     "input": [
      "driver = webdriver.Firefox()\n",
      "seq = 'LIYDSSLCDL'\n",
      "op = open('data/t_cell_positive/36773.txt', 'w')\n",
      "driver.get(url)  # load the main page\n",
      "input_element = driver.find_element_by_name('input')  # find input element\n",
      "input_element.send_keys(seq)\n",
      "input_element.submit()\n",
      "op.write(str(driver.page_source))\n",
      "op.close()"
     ],
     "language": "python",
     "metadata": {},
     "outputs": [],
     "prompt_number": 46
    },
    {
     "cell_type": "code",
     "collapsed": false,
     "input": [],
     "language": "python",
     "metadata": {},
     "outputs": []
    }
   ],
   "metadata": {}
  }
 ]
}