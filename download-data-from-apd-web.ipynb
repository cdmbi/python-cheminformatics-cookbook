{
 "metadata": {
  "name": "",
  "signature": "sha256:3b06ac5c39dd9b3d0dd2d5b78d6934aec581f9fa9c1c7ae8b2e0259882d68203"
 },
 "nbformat": 3,
 "nbformat_minor": 0,
 "worksheets": [
  {
   "cells": [
    {
     "cell_type": "markdown",
     "metadata": {},
     "source": [
      "#Download data from APD database\n",
      "\n",
      "Note that this recipe is a work in progress."
     ]
    },
    {
     "cell_type": "markdown",
     "metadata": {},
     "source": [
      "##Tools\n",
      "\n",
      "In this recipe we will use __Selenium__ to download data from a web server that requires filling in a query in an input box.\n",
      "\n",
      "We use Python __pandas__ to open an Excel file which contains all query sequences and use __time__ module to wait for a page to finish loading."
     ]
    },
    {
     "cell_type": "code",
     "collapsed": false,
     "input": [
      "from selenium import webdriver\n",
      "import pandas as pd\n",
      "import time"
     ],
     "language": "python",
     "metadata": {},
     "outputs": [],
     "prompt_number": 18
    },
    {
     "cell_type": "markdown",
     "metadata": {},
     "source": [
      "Launch a Firefox web browser."
     ]
    },
    {
     "cell_type": "code",
     "collapsed": false,
     "input": [
      "driver = webdriver.Firefox()"
     ],
     "language": "python",
     "metadata": {},
     "outputs": [],
     "prompt_number": 43
    },
    {
     "cell_type": "markdown",
     "metadata": {},
     "source": [
      "Read query sequences from an Excel file."
     ]
    },
    {
     "cell_type": "code",
     "collapsed": false,
     "input": [
      "table = pd.read_excel('T_cell_epitope_positive.xlsx')"
     ],
     "language": "python",
     "metadata": {},
     "outputs": [],
     "prompt_number": 26
    },
    {
     "cell_type": "markdown",
     "metadata": {},
     "source": [
      "Then we set the varible __url__ to the main page of the website and iterate over the dataframe to get an epitope ID and a query sequence.\n",
      "\n",
      "The query sequence is entered in the input box using __send_keys__ function and __submit__ function is called to submit the query.\n",
      "\n",
      "HTML source is then saved to the output file named after the epitope ID. The script waits for 5 seconds then proceeds to the next iteration."
     ]
    },
    {
     "cell_type": "code",
     "collapsed": false,
     "input": [
      "url = 'http://aps.unmc.edu/AP/prediction/prediction_main.php'\n",
      "\n",
      "for row in table.tail(n=20).iterrows():\n",
      "    epitope_id, seq = row[1][0], row[1][2]\n",
      "    op = open('data/t_cell_positive/%s.txt' % str(epitope_id), 'w')\n",
      "    driver.get(url)  # load the main page\n",
      "    input_element = driver.find_element_by_name('input')  # find input element\n",
      "    input_element.send_keys(seq)  # fill in the query sequence\n",
      "    input_element.submit()  # the query sequence is submitted to the server\n",
      "    time.sleep(5)  # wait for 5 seconds\n",
      "    op.write(str(driver.page_source))  # HTML source is saved to the output file\n",
      "    op.close()"
     ],
     "language": "python",
     "metadata": {},
     "outputs": [],
     "prompt_number": 27
    },
    {
     "cell_type": "markdown",
     "metadata": {},
     "source": [
      "We do the same thing for other two Excel files."
     ]
    },
    {
     "cell_type": "code",
     "collapsed": false,
     "input": [
      "table = pd.read_excel('data/t_cell_epitope_negative.xlsx')"
     ],
     "language": "python",
     "metadata": {},
     "outputs": [],
     "prompt_number": 38
    },
    {
     "cell_type": "code",
     "collapsed": false,
     "input": [
      "url = 'http://aps.unmc.edu/AP/prediction/prediction_main.php'\n",
      "\n",
      "for row in table.iterrows():\n",
      "    epitope_id, seq = row[1][0], row[1][1]\n",
      "    op = open('data/t_cell_negative/%s.txt' % str(epitope_id), 'w')\n",
      "    driver.get(url)  # load the main page\n",
      "    input_element = driver.find_element_by_name('input')  # find input element\n",
      "    input_element.send_keys(seq)\n",
      "    input_element.submit()\n",
      "    time.sleep(5)\n",
      "    op.write(str(driver.page_source))\n",
      "    op.close()"
     ],
     "language": "python",
     "metadata": {},
     "outputs": [],
     "prompt_number": 39
    },
    {
     "cell_type": "code",
     "collapsed": false,
     "input": [
      "table = pd.read_excel('data/B_cell_epitope_negative.xlsx')"
     ],
     "language": "python",
     "metadata": {},
     "outputs": [],
     "prompt_number": 44
    },
    {
     "cell_type": "code",
     "collapsed": false,
     "input": [
      "url = 'http://aps.unmc.edu/AP/prediction/prediction_main.php'\n",
      "\n",
      "for row in table.iterrows():\n",
      "    epitope_id, seq = row[1][0], row[1][1]\n",
      "    op = open('data/b_cell_negative/%s.txt' % str(epitope_id), 'w')\n",
      "    driver.get(url)  # load the main page\n",
      "    input_element = driver.find_element_by_name('input')  # find input element\n",
      "    input_element.send_keys(seq)\n",
      "    input_element.submit()\n",
      "    time.sleep(3)\n",
      "    op.write(str(driver.page_source))\n",
      "    op.close()"
     ],
     "language": "python",
     "metadata": {},
     "outputs": [],
     "prompt_number": 45
    },
    {
     "cell_type": "markdown",
     "metadata": {},
     "source": [
      "Quit Firefox."
     ]
    },
    {
     "cell_type": "code",
     "collapsed": false,
     "input": [
      "driver.quit()"
     ],
     "language": "python",
     "metadata": {},
     "outputs": []
    }
   ],
   "metadata": {}
  }
 ]
}