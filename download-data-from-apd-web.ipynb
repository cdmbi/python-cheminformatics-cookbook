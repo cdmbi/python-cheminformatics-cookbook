{
 "metadata": {
  "name": "",
  "signature": "sha256:ddd7f45bd7e19536de081fe3046b6220a399be9578aeb441f18f2ab397cc4f71"
 },
 "nbformat": 3,
 "nbformat_minor": 0,
 "worksheets": [
  {
   "cells": [
    {
     "cell_type": "markdown",
     "metadata": {},
     "source": [
      "#Download data from APD database\n",
      "\n",
      "Note that this recipe is a work in progress."
     ]
    },
    {
     "cell_type": "markdown",
     "metadata": {},
     "source": [
      "##Tools\n",
      "\n",
      "In this recipe we use __Selenium__ to download HTML source from a web server that requires filling in a query in an input box.\n",
      "\n",
      "We use Python __pandas__ to open an Excel file which contains all query sequences and use __time__ module to wait for the page to finish loading."
     ]
    },
    {
     "cell_type": "code",
     "collapsed": false,
     "input": [
      "from selenium import webdriver\n",
      "import pandas as pd\n",
      "import time"
     ],
     "language": "python",
     "metadata": {},
     "outputs": [],
     "prompt_number": 18
    },
    {
     "cell_type": "markdown",
     "metadata": {},
     "source": [
      "Launch the Firefox web browser."
     ]
    },
    {
     "cell_type": "code",
     "collapsed": false,
     "input": [
      "driver = webdriver.Firefox()"
     ],
     "language": "python",
     "metadata": {},
     "outputs": [],
     "prompt_number": 43
    },
    {
     "cell_type": "markdown",
     "metadata": {},
     "source": [
      "Using __get__ function, we can tell Firefox to visit the web page (shown below).\n",
      "\n",
      "The web page only has an input box, a submit and a clear button."
     ]
    },
    {
     "cell_type": "code",
     "collapsed": false,
     "input": [
      "url = 'http://aps.unmc.edu/AP/prediction/prediction_main.php'  # the url of the main page\n",
      "driver.get(url)"
     ],
     "language": "python",
     "metadata": {},
     "outputs": []
    },
    {
     "cell_type": "code",
     "collapsed": false,
     "input": [
      "from IPython.display import HTML  ## for displaying the webpage in IFrame"
     ],
     "language": "python",
     "metadata": {},
     "outputs": [],
     "prompt_number": 48
    },
    {
     "cell_type": "code",
     "collapsed": false,
     "input": [
      "HTML('<iframe src=http://aps.unmc.edu/AP/prediction/prediction_main.php width=700 height=500></iframe>')"
     ],
     "language": "python",
     "metadata": {},
     "outputs": [
      {
       "html": [
        "<iframe src=http://aps.unmc.edu/AP/prediction/prediction_main.php width=700 height=500></iframe>"
       ],
       "metadata": {},
       "output_type": "pyout",
       "prompt_number": 50,
       "text": [
        "<IPython.core.display.HTML at 0x106a63990>"
       ]
      }
     ],
     "prompt_number": 50
    },
    {
     "cell_type": "markdown",
     "metadata": {},
     "source": [
      "Read query sequences from an Excel file."
     ]
    },
    {
     "cell_type": "code",
     "collapsed": false,
     "input": [
      "table = pd.read_excel('T_cell_epitope_positive.xlsx')"
     ],
     "language": "python",
     "metadata": {},
     "outputs": [],
     "prompt_number": 26
    },
    {
     "cell_type": "markdown",
     "metadata": {},
     "source": [
      "Then we iterate over the table (__DataFrame__) to get an epitope ID and a query sequence.\n",
      "\n",
      "The query sequence is entered in the input box using __send_keys__ function and __submit__ function is called to submit the query.\n",
      "\n",
      "HTML source is then saved to the output file named after the epitope ID. The script waits for 5 seconds then proceeds to the next iteration."
     ]
    },
    {
     "cell_type": "code",
     "collapsed": false,
     "input": [
      "for row in table.iterrows():\n",
      "    epitope_id, seq = row[1][0], row[1][2]\n",
      "    op = open('data/t_cell_positive/%s.txt' % str(epitope_id), 'w')\n",
      "    driver.get(url)  # load the main page\n",
      "    input_element = driver.find_element_by_name('input')  # find input element\n",
      "    input_element.send_keys(seq)  # enter the query sequence in the input box\n",
      "    input_element.submit()  # submit the query sequence to the server\n",
      "    time.sleep(5)  # wait for 5 seconds\n",
      "    op.write(str(driver.page_source))  # HTML source is saved to the output file\n",
      "    op.close()"
     ],
     "language": "python",
     "metadata": {},
     "outputs": [],
     "prompt_number": 27
    },
    {
     "cell_type": "markdown",
     "metadata": {},
     "source": [
      "We do the same thing for another two Excel files."
     ]
    },
    {
     "cell_type": "code",
     "collapsed": false,
     "input": [
      "table = pd.read_excel('data/t_cell_epitope_negative.xlsx')"
     ],
     "language": "python",
     "metadata": {},
     "outputs": []
    },
    {
     "cell_type": "code",
     "collapsed": false,
     "input": [
      "url = 'http://aps.unmc.edu/AP/prediction/prediction_main.php'\n",
      "\n",
      "for row in table.iterrows():\n",
      "    epitope_id, seq = row[1][0], row[1][1]\n",
      "    op = open('data/t_cell_negative/%s.txt' % str(epitope_id), 'w')\n",
      "    driver.get(url)\n",
      "    input_element = driver.find_element_by_name('input')\n",
      "    input_element.send_keys(seq)\n",
      "    input_element.submit()\n",
      "    time.sleep(5)\n",
      "    op.write(str(driver.page_source))\n",
      "    op.close()"
     ],
     "language": "python",
     "metadata": {},
     "outputs": []
    },
    {
     "cell_type": "code",
     "collapsed": false,
     "input": [
      "table = pd.read_excel('data/B_cell_epitope_negative.xlsx')"
     ],
     "language": "python",
     "metadata": {},
     "outputs": [],
     "prompt_number": 44
    },
    {
     "cell_type": "code",
     "collapsed": false,
     "input": [
      "url = 'http://aps.unmc.edu/AP/prediction/prediction_main.php'\n",
      "\n",
      "for row in table.iterrows():\n",
      "    epitope_id, seq = row[1][0], row[1][1]\n",
      "    op = open('data/b_cell_negative/%s.txt' % str(epitope_id), 'w')\n",
      "    driver.get(url)\n",
      "    input_element = driver.find_element_by_name('input')\n",
      "    input_element.send_keys(seq)\n",
      "    input_element.submit()\n",
      "    time.sleep(3)\n",
      "    op.write(str(driver.page_source))\n",
      "    op.close()"
     ],
     "language": "python",
     "metadata": {},
     "outputs": [],
     "prompt_number": 45
    },
    {
     "cell_type": "markdown",
     "metadata": {},
     "source": [
      "Quit Firefox."
     ]
    },
    {
     "cell_type": "code",
     "collapsed": false,
     "input": [
      "driver.quit()"
     ],
     "language": "python",
     "metadata": {},
     "outputs": []
    }
   ],
   "metadata": {}
  }
 ]
}